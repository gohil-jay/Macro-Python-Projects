{
  "nbformat": 4,
  "nbformat_minor": 0,
  "metadata": {
    "colab": {
      "name": "Untitled0.ipynb",
      "provenance": []
    },
    "kernelspec": {
      "name": "python3",
      "display_name": "Python 3"
    },
    "language_info": {
      "name": "python"
    }
  },
  "cells": [
    {
      "cell_type": "code",
      "metadata": {
        "colab": {
          "base_uri": "https://localhost:8080/"
        },
        "id": "YwibTTRhcz2H",
        "outputId": "e1442eb4-8383-427a-d924-cc0df92418ec"
      },
      "source": [
        "pip install qrcode[pil]\n"
      ],
      "execution_count": 2,
      "outputs": [
        {
          "output_type": "stream",
          "name": "stdout",
          "text": [
            "Collecting qrcode[pil]\n",
            "  Downloading qrcode-7.3.tar.gz (43 kB)\n",
            "\u001b[?25l\r\u001b[K     |███████▋                        | 10 kB 23.3 MB/s eta 0:00:01\r\u001b[K     |███████████████▏                | 20 kB 10.4 MB/s eta 0:00:01\r\u001b[K     |██████████████████████▊         | 30 kB 8.9 MB/s eta 0:00:01\r\u001b[K     |██████████████████████████████▎ | 40 kB 8.3 MB/s eta 0:00:01\r\u001b[K     |████████████████████████████████| 43 kB 940 kB/s \n",
            "\u001b[?25hRequirement already satisfied: pillow in /usr/local/lib/python3.7/dist-packages (from qrcode[pil]) (7.1.2)\n",
            "Building wheels for collected packages: qrcode\n",
            "  Building wheel for qrcode (setup.py) ... \u001b[?25l\u001b[?25hdone\n",
            "  Created wheel for qrcode: filename=qrcode-7.3-py3-none-any.whl size=40238 sha256=d9db0a0667969741aec7708b0ed87ff8ada099b6d1ceb1e203e9150e08bbe2b1\n",
            "  Stored in directory: /root/.cache/pip/wheels/4f/ed/3e/24f78bcb5ee2f41ec2322691ff82ed037f7f5a21d79ed33565\n",
            "Successfully built qrcode\n",
            "Installing collected packages: qrcode\n",
            "Successfully installed qrcode-7.3\n"
          ]
        }
      ]
    },
    {
      "cell_type": "code",
      "metadata": {
        "id": "5sankkhxdLzV"
      },
      "source": [
        "import qrcode"
      ],
      "execution_count": 3,
      "outputs": []
    },
    {
      "cell_type": "code",
      "metadata": {
        "id": "sbvCmVomdlU7"
      },
      "source": [
        "img = qrcode.make(\"All your best for the open source journey\")\n",
        "img.save(\"quote.jpg\")\n"
      ],
      "execution_count": 4,
      "outputs": []
    },
    {
      "cell_type": "code",
      "metadata": {
        "id": "aMQLfkwId118"
      },
      "source": [
        "import cv2"
      ],
      "execution_count": 5,
      "outputs": []
    },
    {
      "cell_type": "code",
      "metadata": {
        "colab": {
          "base_uri": "https://localhost:8080/"
        },
        "id": "aRx3h_vPd3oW",
        "outputId": "a7cafdd5-38c6-4a6d-d96a-861ef69f27b6"
      },
      "source": [
        "d = cv2.QRCodeDetector()\n",
        "\n",
        "a,b,c = d.detectAndDecode(cv2.imread(\"quote.jpg\"))\n",
        "\n",
        "print(a)#prints the string stored in the qr code."
      ],
      "execution_count": 6,
      "outputs": [
        {
          "output_type": "stream",
          "name": "stdout",
          "text": [
            "All your best for the open source journey\n"
          ]
        }
      ]
    },
    {
      "cell_type": "code",
      "metadata": {
        "id": "JsG88htAd8DY"
      },
      "source": [
        ""
      ],
      "execution_count": null,
      "outputs": []
    }
  ]
}